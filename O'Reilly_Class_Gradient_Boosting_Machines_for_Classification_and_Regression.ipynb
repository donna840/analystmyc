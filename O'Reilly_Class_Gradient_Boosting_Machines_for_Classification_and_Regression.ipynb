{
  "nbformat": 4,
  "nbformat_minor": 0,
  "metadata": {
    "colab": {
      "name": "O'Reilly Class: Gradient Boosting Machines for Classification and Regression",
      "provenance": [],
      "include_colab_link": true
    },
    "kernelspec": {
      "name": "python3",
      "display_name": "Python 3"
    }
  },
  "cells": [
    {
      "cell_type": "markdown",
      "metadata": {
        "id": "view-in-github",
        "colab_type": "text"
      },
      "source": [
        "<a href=\"https://colab.research.google.com/github/monsin/analystmyc/blob/master/O'Reilly_Class_Gradient_Boosting_Machines_for_Classification_and_Regression.ipynb\" target=\"_parent\"><img src=\"https://colab.research.google.com/assets/colab-badge.svg\" alt=\"Open In Colab\"/></a>"
      ]
    },
    {
      "cell_type": "markdown",
      "metadata": {
        "id": "u0pr5N-DfGQe"
      },
      "source": [
        "# Import Libraries and Market Data"
      ]
    },
    {
      "cell_type": "code",
      "metadata": {
        "id": "pxgRHy12PJfK"
      },
      "source": [
        "#Import Python Libraries\n",
        "import numpy as np\n",
        "import pandas as pd\n",
        "from datetime import datetime\n",
        "\n",
        "import pandas_datareader.data as pdr\n",
        "import fix_yahoo_finance as yf\n",
        "yf.pdr_override()\n",
        "\n",
        "import matplotlib.pyplot as plt\n",
        "plt.style.use('seaborn')"
      ],
      "execution_count": null,
      "outputs": []
    },
    {
      "cell_type": "code",
      "metadata": {
        "id": "eGcDaP4vQjuX"
      },
      "source": [
        "#Import data\n",
        "start = datetime(2020, 1, 1)\n",
        "end = datetime(2021, 3, 26)\n",
        "\n",
        "stock = pdr.get_data_yahoo('AAPL', start, end) #Apple Inc. stock\n",
        "market = pdr.get_data_yahoo('SPY', start, end) #S&P 500 index\n",
        "vix = pdr.get_data_yahoo('^VIX', start, end)   #Volatility index\n",
        "dxy = pdr.get_data_yahoo('UUP', start, end)    #Dollar index\n",
        "junk = pdr.get_data_yahoo('JNK', start, end)   #Junk bond index"
      ],
      "execution_count": null,
      "outputs": []
    },
    {
      "cell_type": "markdown",
      "metadata": {
        "id": "C7uxfY2JqI7x"
      },
      "source": [
        "#Design Model"
      ]
    },
    {
      "cell_type": "code",
      "metadata": {
        "id": "EX2JBnMfXHTi",
        "colab": {
          "base_uri": "https://localhost:8080/",
          "height": 235
        },
        "outputId": "4c89f74e-ab74-4409-9bc7-1ff4b757b7c9"
      },
      "source": [
        "#Create target dataframe\n",
        "target = pd.DataFrame()\n",
        "#Use adjusted closing prices instead of closing prices to adjust for corporate actions such as dividends, splits and mergers\n",
        "target['return'] = (stock['Open']-stock['Adj Close'].shift(1))/stock['Adj Close'].shift(1) #Returns based on buying on the close the day before and selling on the open the day after\n",
        "target = target.dropna() #get rid of the NaNs\n",
        "target['direction'] = np.where(target['return'] > 0, 1, -1) #Overnight direction of the stock\n",
        "target.head()"
      ],
      "execution_count": null,
      "outputs": [
        {
          "output_type": "execute_result",
          "data": {
            "text/html": [
              "<div>\n",
              "<style scoped>\n",
              "    .dataframe tbody tr th:only-of-type {\n",
              "        vertical-align: middle;\n",
              "    }\n",
              "\n",
              "    .dataframe tbody tr th {\n",
              "        vertical-align: top;\n",
              "    }\n",
              "\n",
              "    .dataframe thead th {\n",
              "        text-align: right;\n",
              "    }\n",
              "</style>\n",
              "<table border=\"1\" class=\"dataframe\">\n",
              "  <thead>\n",
              "    <tr style=\"text-align: right;\">\n",
              "      <th></th>\n",
              "      <th>return</th>\n",
              "      <th>direction</th>\n",
              "    </tr>\n",
              "    <tr>\n",
              "      <th>Date</th>\n",
              "      <th></th>\n",
              "      <th></th>\n",
              "    </tr>\n",
              "  </thead>\n",
              "  <tbody>\n",
              "    <tr>\n",
              "      <th>2020-01-03</th>\n",
              "      <td>-0.000619</td>\n",
              "      <td>-1</td>\n",
              "    </tr>\n",
              "    <tr>\n",
              "      <th>2020-01-06</th>\n",
              "      <td>-0.002219</td>\n",
              "      <td>-1</td>\n",
              "    </tr>\n",
              "    <tr>\n",
              "      <th>2020-01-07</th>\n",
              "      <td>0.010278</td>\n",
              "      <td>1</td>\n",
              "    </tr>\n",
              "    <tr>\n",
              "      <th>2020-01-08</th>\n",
              "      <td>0.005979</td>\n",
              "      <td>1</td>\n",
              "    </tr>\n",
              "    <tr>\n",
              "      <th>2020-01-09</th>\n",
              "      <td>0.023637</td>\n",
              "      <td>1</td>\n",
              "    </tr>\n",
              "  </tbody>\n",
              "</table>\n",
              "</div>"
            ],
            "text/plain": [
              "              return  direction\n",
              "Date                           \n",
              "2020-01-03 -0.000619         -1\n",
              "2020-01-06 -0.002219         -1\n",
              "2020-01-07  0.010278          1\n",
              "2020-01-08  0.005979          1\n",
              "2020-01-09  0.023637          1"
            ]
          },
          "metadata": {
            "tags": []
          },
          "execution_count": 4
        }
      ]
    },
    {
      "cell_type": "code",
      "metadata": {
        "id": "4PUC0AmibGxp",
        "colab": {
          "base_uri": "https://localhost:8080/",
          "height": 235
        },
        "outputId": "0f38a28b-274a-4acf-b055-4c5c7b74127c"
      },
      "source": [
        "#Create features dataframe\n",
        "features = pd.DataFrame()\n",
        "features['market'] = market['Adj Close'].pct_change(1)*100\n",
        "features['vix'] = vix['Adj Close'].diff() #VIX is measured in percentage terms\n",
        "features['dxy'] = dxy['Adj Close'].pct_change(1)*100\n",
        "features['junk'] = junk['Adj Close'].pct_change(1)*100\n",
        "features = features.dropna()\n",
        "features.tail()"
      ],
      "execution_count": null,
      "outputs": [
        {
          "output_type": "execute_result",
          "data": {
            "text/html": [
              "<div>\n",
              "<style scoped>\n",
              "    .dataframe tbody tr th:only-of-type {\n",
              "        vertical-align: middle;\n",
              "    }\n",
              "\n",
              "    .dataframe tbody tr th {\n",
              "        vertical-align: top;\n",
              "    }\n",
              "\n",
              "    .dataframe thead th {\n",
              "        text-align: right;\n",
              "    }\n",
              "</style>\n",
              "<table border=\"1\" class=\"dataframe\">\n",
              "  <thead>\n",
              "    <tr style=\"text-align: right;\">\n",
              "      <th></th>\n",
              "      <th>market</th>\n",
              "      <th>vix</th>\n",
              "      <th>dxy</th>\n",
              "      <th>junk</th>\n",
              "    </tr>\n",
              "    <tr>\n",
              "      <th>Date</th>\n",
              "      <th></th>\n",
              "      <th></th>\n",
              "      <th></th>\n",
              "      <th></th>\n",
              "    </tr>\n",
              "  </thead>\n",
              "  <tbody>\n",
              "    <tr>\n",
              "      <th>2021-03-19</th>\n",
              "      <td>-0.185029</td>\n",
              "      <td>-0.629999</td>\n",
              "      <td>0.040375</td>\n",
              "      <td>0.467028</td>\n",
              "    </tr>\n",
              "    <tr>\n",
              "      <th>2021-03-22</th>\n",
              "      <td>0.798497</td>\n",
              "      <td>-2.070002</td>\n",
              "      <td>-0.201780</td>\n",
              "      <td>0.269617</td>\n",
              "    </tr>\n",
              "    <tr>\n",
              "      <th>2021-03-23</th>\n",
              "      <td>-0.787080</td>\n",
              "      <td>1.420000</td>\n",
              "      <td>0.606547</td>\n",
              "      <td>0.055638</td>\n",
              "    </tr>\n",
              "    <tr>\n",
              "      <th>2021-03-24</th>\n",
              "      <td>-0.508347</td>\n",
              "      <td>0.900002</td>\n",
              "      <td>0.241166</td>\n",
              "      <td>0.111199</td>\n",
              "    </tr>\n",
              "    <tr>\n",
              "      <th>2021-03-25</th>\n",
              "      <td>0.562558</td>\n",
              "      <td>-1.390002</td>\n",
              "      <td>0.280670</td>\n",
              "      <td>0.083314</td>\n",
              "    </tr>\n",
              "  </tbody>\n",
              "</table>\n",
              "</div>"
            ],
            "text/plain": [
              "              market       vix       dxy      junk\n",
              "Date                                              \n",
              "2021-03-19 -0.185029 -0.629999  0.040375  0.467028\n",
              "2021-03-22  0.798497 -2.070002 -0.201780  0.269617\n",
              "2021-03-23 -0.787080  1.420000  0.606547  0.055638\n",
              "2021-03-24 -0.508347  0.900002  0.241166  0.111199\n",
              "2021-03-25  0.562558 -1.390002  0.280670  0.083314"
            ]
          },
          "metadata": {
            "tags": []
          },
          "execution_count": 5
        }
      ]
    },
    {
      "cell_type": "code",
      "metadata": {
        "id": "XKGxoOWX-uBp",
        "colab": {
          "base_uri": "https://localhost:8080/",
          "height": 235
        },
        "outputId": "79f17cf8-18b7-4f71-e05a-2734d04cc97d"
      },
      "source": [
        "lastknown = features[-1:] #Values of features from the last trading session\n",
        "features = features[:-1] #Subtracts last row from the features matrix so that it aligns with labels vector\n",
        "features.tail()"
      ],
      "execution_count": null,
      "outputs": [
        {
          "output_type": "execute_result",
          "data": {
            "text/html": [
              "<div>\n",
              "<style scoped>\n",
              "    .dataframe tbody tr th:only-of-type {\n",
              "        vertical-align: middle;\n",
              "    }\n",
              "\n",
              "    .dataframe tbody tr th {\n",
              "        vertical-align: top;\n",
              "    }\n",
              "\n",
              "    .dataframe thead th {\n",
              "        text-align: right;\n",
              "    }\n",
              "</style>\n",
              "<table border=\"1\" class=\"dataframe\">\n",
              "  <thead>\n",
              "    <tr style=\"text-align: right;\">\n",
              "      <th></th>\n",
              "      <th>market</th>\n",
              "      <th>vix</th>\n",
              "      <th>dxy</th>\n",
              "      <th>junk</th>\n",
              "    </tr>\n",
              "    <tr>\n",
              "      <th>Date</th>\n",
              "      <th></th>\n",
              "      <th></th>\n",
              "      <th></th>\n",
              "      <th></th>\n",
              "    </tr>\n",
              "  </thead>\n",
              "  <tbody>\n",
              "    <tr>\n",
              "      <th>2021-03-18</th>\n",
              "      <td>-1.454969</td>\n",
              "      <td>2.350000</td>\n",
              "      <td>0.609257</td>\n",
              "      <td>-0.723292</td>\n",
              "    </tr>\n",
              "    <tr>\n",
              "      <th>2021-03-19</th>\n",
              "      <td>-0.185029</td>\n",
              "      <td>-0.629999</td>\n",
              "      <td>0.040375</td>\n",
              "      <td>0.467028</td>\n",
              "    </tr>\n",
              "    <tr>\n",
              "      <th>2021-03-22</th>\n",
              "      <td>0.798497</td>\n",
              "      <td>-2.070002</td>\n",
              "      <td>-0.201780</td>\n",
              "      <td>0.269617</td>\n",
              "    </tr>\n",
              "    <tr>\n",
              "      <th>2021-03-23</th>\n",
              "      <td>-0.787080</td>\n",
              "      <td>1.420000</td>\n",
              "      <td>0.606547</td>\n",
              "      <td>0.055638</td>\n",
              "    </tr>\n",
              "    <tr>\n",
              "      <th>2021-03-24</th>\n",
              "      <td>-0.508347</td>\n",
              "      <td>0.900002</td>\n",
              "      <td>0.241166</td>\n",
              "      <td>0.111199</td>\n",
              "    </tr>\n",
              "  </tbody>\n",
              "</table>\n",
              "</div>"
            ],
            "text/plain": [
              "              market       vix       dxy      junk\n",
              "Date                                              \n",
              "2021-03-18 -1.454969  2.350000  0.609257 -0.723292\n",
              "2021-03-19 -0.185029 -0.629999  0.040375  0.467028\n",
              "2021-03-22  0.798497 -2.070002 -0.201780  0.269617\n",
              "2021-03-23 -0.787080  1.420000  0.606547  0.055638\n",
              "2021-03-24 -0.508347  0.900002  0.241166  0.111199"
            ]
          },
          "metadata": {
            "tags": []
          },
          "execution_count": 6
        }
      ]
    },
    {
      "cell_type": "markdown",
      "metadata": {
        "id": "nd41ArfsfQ3G"
      },
      "source": [
        "#Gradient Boosting Classifier for Overnight Direction"
      ]
    },
    {
      "cell_type": "code",
      "metadata": {
        "id": "3eMzdjb7nOt7",
        "colab": {
          "base_uri": "https://localhost:8080/",
          "height": 235
        },
        "outputId": "ce08d505-8c88-4ce1-e108-cf998404c8d5"
      },
      "source": [
        "#Get rid of return column for classifiers\n",
        "targetclass = target.drop(axis=1, columns='return')\n",
        "targetclass = targetclass[1:] #Removes the first row of labels since we are correlating today's features with tomorrow's opening values\n",
        "targetclass.head()                                                                        "
      ],
      "execution_count": null,
      "outputs": [
        {
          "output_type": "execute_result",
          "data": {
            "text/html": [
              "<div>\n",
              "<style scoped>\n",
              "    .dataframe tbody tr th:only-of-type {\n",
              "        vertical-align: middle;\n",
              "    }\n",
              "\n",
              "    .dataframe tbody tr th {\n",
              "        vertical-align: top;\n",
              "    }\n",
              "\n",
              "    .dataframe thead th {\n",
              "        text-align: right;\n",
              "    }\n",
              "</style>\n",
              "<table border=\"1\" class=\"dataframe\">\n",
              "  <thead>\n",
              "    <tr style=\"text-align: right;\">\n",
              "      <th></th>\n",
              "      <th>direction</th>\n",
              "    </tr>\n",
              "    <tr>\n",
              "      <th>Date</th>\n",
              "      <th></th>\n",
              "    </tr>\n",
              "  </thead>\n",
              "  <tbody>\n",
              "    <tr>\n",
              "      <th>2020-01-06</th>\n",
              "      <td>-1</td>\n",
              "    </tr>\n",
              "    <tr>\n",
              "      <th>2020-01-07</th>\n",
              "      <td>1</td>\n",
              "    </tr>\n",
              "    <tr>\n",
              "      <th>2020-01-08</th>\n",
              "      <td>1</td>\n",
              "    </tr>\n",
              "    <tr>\n",
              "      <th>2020-01-09</th>\n",
              "      <td>1</td>\n",
              "    </tr>\n",
              "    <tr>\n",
              "      <th>2020-01-10</th>\n",
              "      <td>1</td>\n",
              "    </tr>\n",
              "  </tbody>\n",
              "</table>\n",
              "</div>"
            ],
            "text/plain": [
              "            direction\n",
              "Date                 \n",
              "2020-01-06         -1\n",
              "2020-01-07          1\n",
              "2020-01-08          1\n",
              "2020-01-09          1\n",
              "2020-01-10          1"
            ]
          },
          "metadata": {
            "tags": []
          },
          "execution_count": 7
        }
      ]
    },
    {
      "cell_type": "code",
      "metadata": {
        "id": "itqncjwPGpr4",
        "colab": {
          "base_uri": "https://localhost:8080/",
          "height": 235
        },
        "outputId": "7b5667d4-7635-4f05-c2ed-323d297018fe"
      },
      "source": [
        "#Get rid of direction column for regressors\n",
        "targetvalue = target.drop(axis=1, columns='direction')\n",
        "targetvalue = targetvalue[1:] #Removes the first row of labels since we are correlating today's features with tomorrow's opening values\n",
        "targetvalue.head()                                                                        \n"
      ],
      "execution_count": null,
      "outputs": [
        {
          "output_type": "execute_result",
          "data": {
            "text/html": [
              "<div>\n",
              "<style scoped>\n",
              "    .dataframe tbody tr th:only-of-type {\n",
              "        vertical-align: middle;\n",
              "    }\n",
              "\n",
              "    .dataframe tbody tr th {\n",
              "        vertical-align: top;\n",
              "    }\n",
              "\n",
              "    .dataframe thead th {\n",
              "        text-align: right;\n",
              "    }\n",
              "</style>\n",
              "<table border=\"1\" class=\"dataframe\">\n",
              "  <thead>\n",
              "    <tr style=\"text-align: right;\">\n",
              "      <th></th>\n",
              "      <th>return</th>\n",
              "    </tr>\n",
              "    <tr>\n",
              "      <th>Date</th>\n",
              "      <th></th>\n",
              "    </tr>\n",
              "  </thead>\n",
              "  <tbody>\n",
              "    <tr>\n",
              "      <th>2020-01-06</th>\n",
              "      <td>-0.002219</td>\n",
              "    </tr>\n",
              "    <tr>\n",
              "      <th>2020-01-07</th>\n",
              "      <td>0.010278</td>\n",
              "    </tr>\n",
              "    <tr>\n",
              "      <th>2020-01-08</th>\n",
              "      <td>0.005979</td>\n",
              "    </tr>\n",
              "    <tr>\n",
              "      <th>2020-01-09</th>\n",
              "      <td>0.023637</td>\n",
              "    </tr>\n",
              "    <tr>\n",
              "      <th>2020-01-10</th>\n",
              "      <td>0.013308</td>\n",
              "    </tr>\n",
              "  </tbody>\n",
              "</table>\n",
              "</div>"
            ],
            "text/plain": [
              "              return\n",
              "Date                \n",
              "2020-01-06 -0.002219\n",
              "2020-01-07  0.010278\n",
              "2020-01-08  0.005979\n",
              "2020-01-09  0.023637\n",
              "2020-01-10  0.013308"
            ]
          },
          "metadata": {
            "tags": []
          },
          "execution_count": 8
        }
      ]
    },
    {
      "cell_type": "markdown",
      "metadata": {
        "id": "PV88QMvFvhO3"
      },
      "source": [
        "#Train, Test and Regularize Gradient Boosting Classifier"
      ]
    },
    {
      "cell_type": "code",
      "metadata": {
        "id": "94UteHjeoSeG",
        "colab": {
          "base_uri": "https://localhost:8080/"
        },
        "outputId": "8e3d0e58-fa23-4edf-bd42-2c8cc9f11684"
      },
      "source": [
        "#Train and test classifier using Gini impurity performance metric\n",
        "from sklearn.ensemble import GradientBoostingClassifier\n",
        "from sklearn.model_selection import train_test_split\n",
        "\n",
        "classifier = GradientBoostingClassifier(random_state=1, learning_rate=0.01, max_depth=3)\n",
        "targetclass = np.ravel(targetclass) \n",
        "features_train, features_test, targetclass_train, targetclass_test = train_test_split(features, targetclass, test_size = 0.25, random_state=0)\n",
        "classifier.fit(features_train, targetclass_train)\n",
        "print(\"Training score:\", classifier.score(features_train, targetclass_train))\n",
        "print(\"Testing score:\", classifier.score(features_test, targetclass_test))"
      ],
      "execution_count": null,
      "outputs": [
        {
          "output_type": "stream",
          "text": [
            "Training score: 0.7445887445887446\n",
            "Testing score: 0.7272727272727273\n"
          ],
          "name": "stdout"
        }
      ]
    },
    {
      "cell_type": "code",
      "metadata": {
        "id": "EyfkIcnPE7FG",
        "colab": {
          "base_uri": "https://localhost:8080/",
          "height": 145
        },
        "outputId": "458f6810-342d-4012-b87e-95361e4798b8"
      },
      "source": [
        "print(\"Tomorrow's change:\", classifier.predict(lastknown))\n",
        "print(\"Probability of change\", classifier.predict_proba(lastknown))\n",
        "lastknown"
      ],
      "execution_count": null,
      "outputs": [
        {
          "output_type": "stream",
          "text": [
            "Tomorrow's change: [1]\n",
            "Probability of change [[0.22704361 0.77295639]]\n"
          ],
          "name": "stdout"
        },
        {
          "output_type": "execute_result",
          "data": {
            "text/html": [
              "<div>\n",
              "<style scoped>\n",
              "    .dataframe tbody tr th:only-of-type {\n",
              "        vertical-align: middle;\n",
              "    }\n",
              "\n",
              "    .dataframe tbody tr th {\n",
              "        vertical-align: top;\n",
              "    }\n",
              "\n",
              "    .dataframe thead th {\n",
              "        text-align: right;\n",
              "    }\n",
              "</style>\n",
              "<table border=\"1\" class=\"dataframe\">\n",
              "  <thead>\n",
              "    <tr style=\"text-align: right;\">\n",
              "      <th></th>\n",
              "      <th>market</th>\n",
              "      <th>vix</th>\n",
              "      <th>dxy</th>\n",
              "      <th>junk</th>\n",
              "    </tr>\n",
              "    <tr>\n",
              "      <th>Date</th>\n",
              "      <th></th>\n",
              "      <th></th>\n",
              "      <th></th>\n",
              "      <th></th>\n",
              "    </tr>\n",
              "  </thead>\n",
              "  <tbody>\n",
              "    <tr>\n",
              "      <th>2021-03-25</th>\n",
              "      <td>0.562558</td>\n",
              "      <td>-1.390002</td>\n",
              "      <td>0.28067</td>\n",
              "      <td>0.083314</td>\n",
              "    </tr>\n",
              "  </tbody>\n",
              "</table>\n",
              "</div>"
            ],
            "text/plain": [
              "              market       vix      dxy      junk\n",
              "Date                                             \n",
              "2021-03-25  0.562558 -1.390002  0.28067  0.083314"
            ]
          },
          "metadata": {
            "tags": []
          },
          "execution_count": 10
        }
      ]
    },
    {
      "cell_type": "code",
      "metadata": {
        "id": "k4JNKl_ccHGu",
        "colab": {
          "base_uri": "https://localhost:8080/"
        },
        "outputId": "dac19384-d5c6-41b2-f85a-5dae3b198347"
      },
      "source": [
        "#Inferring the importance of each feature\n",
        "print(features.columns)\n",
        "print(classifier.feature_importances_)"
      ],
      "execution_count": null,
      "outputs": [
        {
          "output_type": "stream",
          "text": [
            "Index(['market', 'vix', 'dxy', 'junk'], dtype='object')\n",
            "[0.36784929 0.27733588 0.20556345 0.14925138]\n"
          ],
          "name": "stdout"
        }
      ]
    },
    {
      "cell_type": "markdown",
      "metadata": {
        "id": "pO56pgNQdpzU"
      },
      "source": [
        "#Gradient Boosting Regressor for Overnight Value Changes"
      ]
    },
    {
      "cell_type": "markdown",
      "metadata": {
        "id": "H5l22T2BLJt7"
      },
      "source": [
        "#Train and Test GBRT Model"
      ]
    },
    {
      "cell_type": "code",
      "metadata": {
        "id": "xW2yP4i1IDTl",
        "colab": {
          "base_uri": "https://localhost:8080/"
        },
        "outputId": "fd4dcca3-e4ce-42e0-acb2-930a27a0e8c4"
      },
      "source": [
        "from sklearn.ensemble import GradientBoostingRegressor\n",
        "from sklearn.model_selection import train_test_split\n",
        "\n",
        "regressor = GradientBoostingRegressor(random_state=1)\n",
        "targetvalue = np.ravel(targetvalue) #Need to covert column vector into a 1-d array\n",
        "features_train, features_test, targetvalue_train, targetvalue_test = train_test_split(features, targetvalue, test_size = 0.25, random_state=0)\n",
        "regressor.fit(features_train, targetvalue_train)\n",
        "print(\"Training score:\", regressor.score(features_train, targetvalue_train))\n",
        "print(\"Testing score:\", regressor.score(features_test, targetvalue_test)) #Note that scikit-learn library makes the default mean squared error(mse) test score negative so that it is maximized instead of minimized\n",
        "print(\"Tomorrow's value change:\", regressor.predict(lastknown))"
      ],
      "execution_count": null,
      "outputs": [
        {
          "output_type": "stream",
          "text": [
            "Training score: 0.8830184687976247\n",
            "Testing score: -0.7429081624781926\n",
            "Tomorrow's value change: [0.01252763]\n"
          ],
          "name": "stdout"
        }
      ]
    },
    {
      "cell_type": "markdown",
      "metadata": {
        "id": "wrBfyhhdLVzm"
      },
      "source": [
        "#Regularize and Test GBRT Model"
      ]
    },
    {
      "cell_type": "code",
      "metadata": {
        "id": "G7vkAGgDKALy",
        "colab": {
          "base_uri": "https://localhost:8080/"
        },
        "outputId": "49ebacb0-22df-4217-e650-7bdbccf0f59a"
      },
      "source": [
        "regressor_mae = GradientBoostingRegressor(criterion=\"mae\", random_state=1, learning_rate=0.4, max_depth=5, n_estimators=200, min_samples_split=5, min_samples_leaf=10) #Reduce learning rate (between 0 and 1) to avoid overfitting\n",
        "features_train, features_test, targetvalue_train, targetvalue_test = train_test_split(features, targetvalue, test_size = 0.25, random_state=1)\n",
        "regressor_mae.fit(features_train, targetvalue_train)\n",
        "print(\"Training score:\", regressor_mae.score(features_train, targetvalue_train))\n",
        "print(\"Testing score:\", regressor_mae.score(features_test, targetvalue_test)) #Note that scikit-learn library makes the mean absolute error(mae) test score negative so that it is maximized instead of minimized\n",
        "print(\"Tomorrow's value change:\", regressor_mae.predict(lastknown))"
      ],
      "execution_count": null,
      "outputs": [
        {
          "output_type": "stream",
          "text": [
            "Training score: 0.6218608963692029\n",
            "Testing score: -0.6403926722787197\n",
            "Tomorrow's value change: [0.01989613]\n"
          ],
          "name": "stdout"
        }
      ]
    },
    {
      "cell_type": "code",
      "metadata": {
        "id": "YVK-hcRAhyBh",
        "colab": {
          "base_uri": "https://localhost:8080/"
        },
        "outputId": "8be8d9b5-5339-4bec-9bf2-103bbc44149d"
      },
      "source": [
        "#Inferring the importance of each feature\n",
        "print(features.columns)\n",
        "print(regressor.feature_importances_)\n",
        "print(regressor_mae.feature_importances_)"
      ],
      "execution_count": null,
      "outputs": [
        {
          "output_type": "stream",
          "text": [
            "Index(['market', 'vix', 'dxy', 'junk'], dtype='object')\n",
            "[0.31848034 0.18498444 0.288058   0.20847723]\n",
            "[0.23429362 0.24786429 0.25505223 0.26278986]\n"
          ],
          "name": "stdout"
        }
      ]
    }
  ]
}